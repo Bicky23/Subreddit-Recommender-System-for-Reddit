{
 "cells": [
  {
   "cell_type": "markdown",
   "metadata": {},
   "source": [
    " # RECOMMENDER SYSTEM FOR REDDIT "
   ]
  },
  {
   "cell_type": "markdown",
   "metadata": {},
   "source": [
    "Objective is to design a subreddit recommender for Reddit"
   ]
  },
  {
   "cell_type": "markdown",
   "metadata": {},
   "source": [
    "## Loading the dataset "
   ]
  },
  {
   "cell_type": "code",
   "execution_count": 1,
   "metadata": {
    "collapsed": true
   },
   "outputs": [],
   "source": [
    "# Import necessary packages\n",
    "\n",
    "import pandas as pd\n",
    "import numpy as np"
   ]
  },
  {
   "cell_type": "code",
   "execution_count": 2,
   "metadata": {},
   "outputs": [
    {
     "data": {
      "text/html": [
       "<div>\n",
       "<style>\n",
       "    .dataframe thead tr:only-child th {\n",
       "        text-align: right;\n",
       "    }\n",
       "\n",
       "    .dataframe thead th {\n",
       "        text-align: left;\n",
       "    }\n",
       "\n",
       "    .dataframe tbody tr th {\n",
       "        vertical-align: top;\n",
       "    }\n",
       "</style>\n",
       "<table border=\"1\" class=\"dataframe\">\n",
       "  <thead>\n",
       "    <tr style=\"text-align: right;\">\n",
       "      <th></th>\n",
       "      <th>username</th>\n",
       "      <th>subreddit</th>\n",
       "      <th>utc</th>\n",
       "    </tr>\n",
       "  </thead>\n",
       "  <tbody>\n",
       "    <tr>\n",
       "      <th>0</th>\n",
       "      <td>kabanossi</td>\n",
       "      <td>photoshopbattles</td>\n",
       "      <td>1.482748e+09</td>\n",
       "    </tr>\n",
       "    <tr>\n",
       "      <th>1</th>\n",
       "      <td>kabanossi</td>\n",
       "      <td>GetMotivated</td>\n",
       "      <td>1.482748e+09</td>\n",
       "    </tr>\n",
       "    <tr>\n",
       "      <th>2</th>\n",
       "      <td>kabanossi</td>\n",
       "      <td>vmware</td>\n",
       "      <td>1.482748e+09</td>\n",
       "    </tr>\n",
       "    <tr>\n",
       "      <th>3</th>\n",
       "      <td>kabanossi</td>\n",
       "      <td>carporn</td>\n",
       "      <td>1.482748e+09</td>\n",
       "    </tr>\n",
       "    <tr>\n",
       "      <th>4</th>\n",
       "      <td>kabanossi</td>\n",
       "      <td>DIY</td>\n",
       "      <td>1.482747e+09</td>\n",
       "    </tr>\n",
       "  </tbody>\n",
       "</table>\n",
       "</div>"
      ],
      "text/plain": [
       "    username         subreddit           utc\n",
       "0  kabanossi  photoshopbattles  1.482748e+09\n",
       "1  kabanossi      GetMotivated  1.482748e+09\n",
       "2  kabanossi            vmware  1.482748e+09\n",
       "3  kabanossi           carporn  1.482748e+09\n",
       "4  kabanossi               DIY  1.482747e+09"
      ]
     },
     "execution_count": 2,
     "metadata": {},
     "output_type": "execute_result"
    }
   ],
   "source": [
    "df = pd.read_csv('reddit_data.csv')\n",
    "df.head()"
   ]
  },
  {
   "cell_type": "markdown",
   "metadata": {},
   "source": [
    "## Data Exploration"
   ]
  },
  {
   "cell_type": "code",
   "execution_count": 3,
   "metadata": {},
   "outputs": [
    {
     "name": "stdout",
     "output_type": "stream",
     "text": [
      "(14000000, 3)\n",
      "<class 'pandas.core.frame.DataFrame'>\n",
      "RangeIndex: 14000000 entries, 0 to 13999999\n",
      "Data columns (total 3 columns):\n",
      "username     object\n",
      "subreddit    object\n",
      "utc          float64\n",
      "dtypes: float64(1), object(2)\n",
      "memory usage: 320.4+ MB\n",
      "None\n"
     ]
    }
   ],
   "source": [
    "# Looking at shape and info about dataset\n",
    "\n",
    "print(df.shape)\n",
    "print(df.info())"
   ]
  },
  {
   "cell_type": "code",
   "execution_count": 4,
   "metadata": {},
   "outputs": [
    {
     "name": "stdout",
     "output_type": "stream",
     "text": [
      "0\n",
      "0\n",
      "0\n"
     ]
    }
   ],
   "source": [
    "# Checking for null values in dataset\n",
    "\n",
    "print(df.username.isnull().sum())\n",
    "print(df.subreddit.isnull().sum())\n",
    "print(df.utc.isnull().sum())"
   ]
  },
  {
   "cell_type": "code",
   "execution_count": 5,
   "metadata": {},
   "outputs": [
    {
     "name": "stdout",
     "output_type": "stream",
     "text": [
      "22610\n",
      "34967\n"
     ]
    }
   ],
   "source": [
    "# Checking unique subreddits and users\n",
    "\n",
    "print(len(df.username.unique()))\n",
    "print(len(df.subreddit.unique()))"
   ]
  },
  {
   "cell_type": "markdown",
   "metadata": {},
   "source": [
    "# Data Visualization"
   ]
  },
  {
   "cell_type": "code",
   "execution_count": 6,
   "metadata": {},
   "outputs": [
    {
     "data": {
      "image/png": "[encoded data removed]",
      "text/plain": [
       "<matplotlib.figure.Figure at 0x7f01eb9be080>"
      ]
     },
     "metadata": {},
     "output_type": "display_data"
    }
   ],
   "source": [
    "import matplotlib.pyplot as plt\n",
    "%matplotlib inline\n",
    "user_subreddit = df.groupby(['username'])['subreddit'].nunique()\n",
    "user_subreddit\n",
    "plt.hist(user_subreddit.values, bins=30)\n",
    "plt.title(\"User vs Subreddit Counts Histogram\")\n",
    "plt.show()"
   ]
  },
  {
   "cell_type": "markdown",
   "metadata": {},
   "source": [
    "# Feature Engineering"
   ]
  },
  {
   "cell_type": "code",
   "execution_count": 7,
   "metadata": {
    "collapsed": true
   },
   "outputs": [],
   "source": [
    "# Making a dataframe by grouping dataset by username and value counts of each unique subreddit\n",
    "\n",
    "subreddits_per_user = df.groupby(['username'])['subreddit'].value_counts()"
   ]
  },
  {
   "cell_type": "code",
   "execution_count": 8,
   "metadata": {},
   "outputs": [
    {
     "name": "stdout",
     "output_type": "stream",
     "text": [
      "                          count_per_subreddit_of_user\n",
      "username    subreddit                                \n",
      "--ANUSTART- Testosterone                          117\n",
      "            Monitors                               23\n",
      "            buildmeapc                             23\n",
      "            sanantonio                             22\n",
      "            AskReddit                              14\n",
      "<class 'pandas.core.frame.DataFrame'>\n",
      "MultiIndex: 892462 entries, (--ANUSTART-, Testosterone) to (zzy_, news)\n",
      "Data columns (total 1 columns):\n",
      "count_per_subreddit_of_user    892462 non-null int64\n",
      "dtypes: int64(1)\n",
      "memory usage: 12.4+ MB\n",
      "None\n"
     ]
    }
   ],
   "source": [
    "# Making a new dataframe \n",
    "\n",
    "subreddits_per_user_df = pd.DataFrame(subreddits_per_user)\n",
    "subreddits_per_user_df.rename(columns = {'subreddit':'count_per_subreddit_of_user'}, inplace=True)\n",
    "print(subreddits_per_user_df.head())\n",
    "print(subreddits_per_user_df.info())"
   ]
  },
  {
   "cell_type": "code",
   "execution_count": 9,
   "metadata": {},
   "outputs": [
    {
     "data": {
      "text/html": [
       "<div>\n",
       "<style>\n",
       "    .dataframe thead tr:only-child th {\n",
       "        text-align: right;\n",
       "    }\n",
       "\n",
       "    .dataframe thead th {\n",
       "        text-align: left;\n",
       "    }\n",
       "\n",
       "    .dataframe tbody tr th {\n",
       "        vertical-align: top;\n",
       "    }\n",
       "</style>\n",
       "<table border=\"1\" class=\"dataframe\">\n",
       "  <thead>\n",
       "    <tr style=\"text-align: right;\">\n",
       "      <th></th>\n",
       "      <th>subreddit</th>\n",
       "      <th>count_per_subreddit_of_user</th>\n",
       "    </tr>\n",
       "    <tr>\n",
       "      <th>username</th>\n",
       "      <th></th>\n",
       "      <th></th>\n",
       "    </tr>\n",
       "  </thead>\n",
       "  <tbody>\n",
       "    <tr>\n",
       "      <th>--ANUSTART-</th>\n",
       "      <td>Testosterone</td>\n",
       "      <td>117</td>\n",
       "    </tr>\n",
       "    <tr>\n",
       "      <th>--ANUSTART-</th>\n",
       "      <td>Monitors</td>\n",
       "      <td>23</td>\n",
       "    </tr>\n",
       "    <tr>\n",
       "      <th>--ANUSTART-</th>\n",
       "      <td>buildmeapc</td>\n",
       "      <td>23</td>\n",
       "    </tr>\n",
       "    <tr>\n",
       "      <th>--ANUSTART-</th>\n",
       "      <td>sanantonio</td>\n",
       "      <td>22</td>\n",
       "    </tr>\n",
       "    <tr>\n",
       "      <th>--ANUSTART-</th>\n",
       "      <td>AskReddit</td>\n",
       "      <td>14</td>\n",
       "    </tr>\n",
       "  </tbody>\n",
       "</table>\n",
       "</div>"
      ],
      "text/plain": [
       "                subreddit  count_per_subreddit_of_user\n",
       "username                                              \n",
       "--ANUSTART-  Testosterone                          117\n",
       "--ANUSTART-      Monitors                           23\n",
       "--ANUSTART-    buildmeapc                           23\n",
       "--ANUSTART-    sanantonio                           22\n",
       "--ANUSTART-     AskReddit                           14"
      ]
     },
     "execution_count": 9,
     "metadata": {},
     "output_type": "execute_result"
    }
   ],
   "source": [
    "# Reset index\n",
    "\n",
    "new_1 = subreddits_per_user_df.reset_index(level = 1, drop = False)\n",
    "new_1.head()"
   ]
  },
  {
   "cell_type": "markdown",
   "metadata": {},
   "source": [
    "# Extrapolatory Data Analysis"
   ]
  },
  {
   "cell_type": "markdown",
   "metadata": {},
   "source": [
    "USER WITH MOST SUBREDDITS"
   ]
  },
  {
   "cell_type": "code",
   "execution_count": 10,
   "metadata": {},
   "outputs": [
    {
     "data": {
      "text/html": [
       "<div>\n",
       "<style>\n",
       "    .dataframe thead tr:only-child th {\n",
       "        text-align: right;\n",
       "    }\n",
       "\n",
       "    .dataframe thead th {\n",
       "        text-align: left;\n",
       "    }\n",
       "\n",
       "    .dataframe tbody tr th {\n",
       "        vertical-align: top;\n",
       "    }\n",
       "</style>\n",
       "<table border=\"1\" class=\"dataframe\">\n",
       "  <thead>\n",
       "    <tr style=\"text-align: right;\">\n",
       "      <th></th>\n",
       "      <th>count_per_subreddit_of_user</th>\n",
       "    </tr>\n",
       "    <tr>\n",
       "      <th>username</th>\n",
       "      <th></th>\n",
       "    </tr>\n",
       "  </thead>\n",
       "  <tbody>\n",
       "    <tr>\n",
       "      <th>eastshores</th>\n",
       "      <td>1000</td>\n",
       "    </tr>\n",
       "    <tr>\n",
       "      <th>LiquidAether</th>\n",
       "      <td>1000</td>\n",
       "    </tr>\n",
       "    <tr>\n",
       "      <th>Lindsw</th>\n",
       "      <td>1000</td>\n",
       "    </tr>\n",
       "    <tr>\n",
       "      <th>LingLing_NorthKorea</th>\n",
       "      <td>1000</td>\n",
       "    </tr>\n",
       "    <tr>\n",
       "      <th>Liniis</th>\n",
       "      <td>1000</td>\n",
       "    </tr>\n",
       "  </tbody>\n",
       "</table>\n",
       "</div>"
      ],
      "text/plain": [
       "                     count_per_subreddit_of_user\n",
       "username                                        \n",
       "eastshores                                  1000\n",
       "LiquidAether                                1000\n",
       "Lindsw                                      1000\n",
       "LingLing_NorthKorea                         1000\n",
       "Liniis                                      1000"
      ]
     },
     "execution_count": 10,
     "metadata": {},
     "output_type": "execute_result"
    }
   ],
   "source": [
    "# Users with most subreddits\n",
    "\n",
    "ser = pd.DataFrame(new_1.groupby(['username'])['count_per_subreddit_of_user'].sum())\n",
    "ser.sort_values(by = 'count_per_subreddit_of_user', ascending=False).head()"
   ]
  },
  {
   "cell_type": "markdown",
   "metadata": {},
   "source": [
    "TOP 10 SUBREDDITS"
   ]
  },
  {
   "cell_type": "code",
   "execution_count": 11,
   "metadata": {},
   "outputs": [
    {
     "data": {
      "image/png": "[encoded data removed]",
      "text/plain": [
       "<matplotlib.figure.Figure at 0x7f01e6c73fd0>"
      ]
     },
     "metadata": {},
     "output_type": "display_data"
    }
   ],
   "source": [
    "# Top 10 subreddits\n",
    "\n",
    "res = pd.DataFrame(new_1.groupby('subreddit')['count_per_subreddit_of_user'].sum())\n",
    "res_1 = res.sort_values(by='count_per_subreddit_of_user', ascending=False)[0:10]\n",
    "res_1.plot.bar()\n",
    "plt.show()"
   ]
  },
  {
   "cell_type": "markdown",
   "metadata": {},
   "source": [
    "## Dataset construction"
   ]
  },
  {
   "cell_type": "code",
   "execution_count": 12,
   "metadata": {},
   "outputs": [
    {
     "data": {
      "text/html": [
       "<div>\n",
       "<style>\n",
       "    .dataframe thead tr:only-child th {\n",
       "        text-align: right;\n",
       "    }\n",
       "\n",
       "    .dataframe thead th {\n",
       "        text-align: left;\n",
       "    }\n",
       "\n",
       "    .dataframe tbody tr th {\n",
       "        vertical-align: top;\n",
       "    }\n",
       "</style>\n",
       "<table border=\"1\" class=\"dataframe\">\n",
       "  <thead>\n",
       "    <tr style=\"text-align: right;\">\n",
       "      <th></th>\n",
       "      <th>count_per_subreddit_of_user</th>\n",
       "    </tr>\n",
       "  </thead>\n",
       "  <tbody>\n",
       "    <tr>\n",
       "      <th>count</th>\n",
       "      <td>892462.000000</td>\n",
       "    </tr>\n",
       "    <tr>\n",
       "      <th>mean</th>\n",
       "      <td>15.686942</td>\n",
       "    </tr>\n",
       "    <tr>\n",
       "      <th>std</th>\n",
       "      <td>63.527178</td>\n",
       "    </tr>\n",
       "    <tr>\n",
       "      <th>min</th>\n",
       "      <td>1.000000</td>\n",
       "    </tr>\n",
       "    <tr>\n",
       "      <th>25%</th>\n",
       "      <td>1.000000</td>\n",
       "    </tr>\n",
       "    <tr>\n",
       "      <th>50%</th>\n",
       "      <td>2.000000</td>\n",
       "    </tr>\n",
       "    <tr>\n",
       "      <th>75%</th>\n",
       "      <td>7.000000</td>\n",
       "    </tr>\n",
       "    <tr>\n",
       "      <th>max</th>\n",
       "      <td>1000.000000</td>\n",
       "    </tr>\n",
       "  </tbody>\n",
       "</table>\n",
       "</div>"
      ],
      "text/plain": [
       "       count_per_subreddit_of_user\n",
       "count                892462.000000\n",
       "mean                     15.686942\n",
       "std                      63.527178\n",
       "min                       1.000000\n",
       "25%                       1.000000\n",
       "50%                       2.000000\n",
       "75%                       7.000000\n",
       "max                    1000.000000"
      ]
     },
     "execution_count": 12,
     "metadata": {},
     "output_type": "execute_result"
    }
   ],
   "source": [
    "# Reset index\n",
    "\n",
    "new_2 = new_1.reset_index()\n",
    "new_2.head()\n",
    "new_2.describe()"
   ]
  },
  {
   "cell_type": "code",
   "execution_count": 13,
   "metadata": {},
   "outputs": [
    {
     "name": "stdout",
     "output_type": "stream",
     "text": [
      "<class 'pandas.core.frame.DataFrame'>\n",
      "RangeIndex: 892462 entries, 0 to 892461\n",
      "Data columns (total 3 columns):\n",
      "username                       892462 non-null object\n",
      "subreddit                      892462 non-null object\n",
      "count_per_subreddit_of_user    892462 non-null uint8\n",
      "dtypes: object(2), uint8(1)\n",
      "memory usage: 14.5+ MB\n"
     ]
    }
   ],
   "source": [
    "new_2.count_per_subreddit_of_user = new_2.count_per_subreddit_of_user.astype('uint8')\n",
    "new_2.info()"
   ]
  },
  {
   "cell_type": "code",
   "execution_count": 14,
   "metadata": {},
   "outputs": [
    {
     "data": {
      "text/html": [
       "<div>\n",
       "<style>\n",
       "    .dataframe thead tr:only-child th {\n",
       "        text-align: right;\n",
       "    }\n",
       "\n",
       "    .dataframe thead th {\n",
       "        text-align: left;\n",
       "    }\n",
       "\n",
       "    .dataframe tbody tr th {\n",
       "        vertical-align: top;\n",
       "    }\n",
       "</style>\n",
       "<table border=\"1\" class=\"dataframe\">\n",
       "  <thead>\n",
       "    <tr style=\"text-align: right;\">\n",
       "      <th></th>\n",
       "      <th>username</th>\n",
       "      <th>subreddit</th>\n",
       "      <th>count_per_subreddit_of_user</th>\n",
       "    </tr>\n",
       "  </thead>\n",
       "  <tbody>\n",
       "    <tr>\n",
       "      <th>0</th>\n",
       "      <td>--ANUSTART-</td>\n",
       "      <td>Testosterone</td>\n",
       "      <td>117</td>\n",
       "    </tr>\n",
       "    <tr>\n",
       "      <th>1</th>\n",
       "      <td>--ANUSTART-</td>\n",
       "      <td>Monitors</td>\n",
       "      <td>23</td>\n",
       "    </tr>\n",
       "    <tr>\n",
       "      <th>2</th>\n",
       "      <td>--ANUSTART-</td>\n",
       "      <td>buildmeapc</td>\n",
       "      <td>23</td>\n",
       "    </tr>\n",
       "    <tr>\n",
       "      <th>3</th>\n",
       "      <td>--ANUSTART-</td>\n",
       "      <td>sanantonio</td>\n",
       "      <td>22</td>\n",
       "    </tr>\n",
       "    <tr>\n",
       "      <th>4</th>\n",
       "      <td>--ANUSTART-</td>\n",
       "      <td>AskReddit</td>\n",
       "      <td>14</td>\n",
       "    </tr>\n",
       "  </tbody>\n",
       "</table>\n",
       "</div>"
      ],
      "text/plain": [
       "      username     subreddit  count_per_subreddit_of_user\n",
       "0  --ANUSTART-  Testosterone                          117\n",
       "1  --ANUSTART-      Monitors                           23\n",
       "2  --ANUSTART-    buildmeapc                           23\n",
       "3  --ANUSTART-    sanantonio                           22\n",
       "4  --ANUSTART-     AskReddit                           14"
      ]
     },
     "execution_count": 14,
     "metadata": {},
     "output_type": "execute_result"
    }
   ],
   "source": [
    "new_2.head()"
   ]
  },
  {
   "cell_type": "code",
   "execution_count": 15,
   "metadata": {},
   "outputs": [
    {
     "data": {
      "text/plain": [
       "(892462, 3)"
      ]
     },
     "execution_count": 15,
     "metadata": {},
     "output_type": "execute_result"
    }
   ],
   "source": [
    "new_2.shape"
   ]
  },
  {
   "cell_type": "code",
   "execution_count": 16,
   "metadata": {},
   "outputs": [
    {
     "data": {
      "text/plain": [
       "count    892462.000000\n",
       "mean         11.013345\n",
       "std          27.549570\n",
       "min           0.000000\n",
       "25%           1.000000\n",
       "50%           2.000000\n",
       "75%           7.000000\n",
       "max         255.000000\n",
       "Name: count_per_subreddit_of_user, dtype: float64"
      ]
     },
     "execution_count": 16,
     "metadata": {},
     "output_type": "execute_result"
    }
   ],
   "source": [
    "new_2.count_per_subreddit_of_user.describe()"
   ]
  },
  {
   "cell_type": "code",
   "execution_count": 17,
   "metadata": {},
   "outputs": [
    {
     "name": "stdout",
     "output_type": "stream",
     "text": [
      "9.0\n"
     ]
    }
   ],
   "source": [
    "# Masking to remove outliers\n",
    "\n",
    "from scipy.stats import iqr\n",
    "outlier_range = 1.5*(iqr(new_2.count_per_subreddit_of_user.values))\n",
    "print(outlier_range)\n",
    "tran = new_2[(new_2['count_per_subreddit_of_user'] > 10) & (new_2['count_per_subreddit_of_user'] < 85)]"
   ]
  },
  {
   "cell_type": "code",
   "execution_count": 18,
   "metadata": {},
   "outputs": [
    {
     "data": {
      "text/html": [
       "<div>\n",
       "<style>\n",
       "    .dataframe thead tr:only-child th {\n",
       "        text-align: right;\n",
       "    }\n",
       "\n",
       "    .dataframe thead th {\n",
       "        text-align: left;\n",
       "    }\n",
       "\n",
       "    .dataframe tbody tr th {\n",
       "        vertical-align: top;\n",
       "    }\n",
       "</style>\n",
       "<table border=\"1\" class=\"dataframe\">\n",
       "  <thead>\n",
       "    <tr style=\"text-align: right;\">\n",
       "      <th></th>\n",
       "      <th>username</th>\n",
       "      <th>subreddit</th>\n",
       "      <th>count_per_subreddit_of_user</th>\n",
       "    </tr>\n",
       "  </thead>\n",
       "  <tbody>\n",
       "    <tr>\n",
       "      <th>1</th>\n",
       "      <td>--ANUSTART-</td>\n",
       "      <td>Monitors</td>\n",
       "      <td>23</td>\n",
       "    </tr>\n",
       "    <tr>\n",
       "      <th>2</th>\n",
       "      <td>--ANUSTART-</td>\n",
       "      <td>buildmeapc</td>\n",
       "      <td>23</td>\n",
       "    </tr>\n",
       "    <tr>\n",
       "      <th>3</th>\n",
       "      <td>--ANUSTART-</td>\n",
       "      <td>sanantonio</td>\n",
       "      <td>22</td>\n",
       "    </tr>\n",
       "    <tr>\n",
       "      <th>4</th>\n",
       "      <td>--ANUSTART-</td>\n",
       "      <td>AskReddit</td>\n",
       "      <td>14</td>\n",
       "    </tr>\n",
       "    <tr>\n",
       "      <th>5</th>\n",
       "      <td>--ANUSTART-</td>\n",
       "      <td>Watches</td>\n",
       "      <td>11</td>\n",
       "    </tr>\n",
       "  </tbody>\n",
       "</table>\n",
       "</div>"
      ],
      "text/plain": [
       "      username   subreddit  count_per_subreddit_of_user\n",
       "1  --ANUSTART-    Monitors                           23\n",
       "2  --ANUSTART-  buildmeapc                           23\n",
       "3  --ANUSTART-  sanantonio                           22\n",
       "4  --ANUSTART-   AskReddit                           14\n",
       "5  --ANUSTART-     Watches                           11"
      ]
     },
     "execution_count": 18,
     "metadata": {},
     "output_type": "execute_result"
    }
   ],
   "source": [
    "tran.head()"
   ]
  },
  {
   "cell_type": "code",
   "execution_count": 19,
   "metadata": {},
   "outputs": [
    {
     "data": {
      "text/plain": [
       "(145553, 3)"
      ]
     },
     "execution_count": 19,
     "metadata": {},
     "output_type": "execute_result"
    }
   ],
   "source": [
    "tran.shape"
   ]
  },
  {
   "cell_type": "code",
   "execution_count": 20,
   "metadata": {},
   "outputs": [
    {
     "name": "stderr",
     "output_type": "stream",
     "text": [
      "/home/bijit23/miniconda3/envs/py35/lib/python3.5/site-packages/sklearn/model_selection/_split.py:2010: FutureWarning: From version 0.21, test_size will always complement train_size unless both are specified.\n",
      "  FutureWarning)\n"
     ]
    }
   ],
   "source": [
    "# Splitting into train and test\n",
    "\n",
    "from sklearn.model_selection import train_test_split\n",
    "train, test = train_test_split(tran, train_size = 0.7)"
   ]
  },
  {
   "cell_type": "code",
   "execution_count": 21,
   "metadata": {},
   "outputs": [
    {
     "data": {
      "text/plain": [
       "(101887, 3)"
      ]
     },
     "execution_count": 21,
     "metadata": {},
     "output_type": "execute_result"
    }
   ],
   "source": [
    "train.shape"
   ]
  },
  {
   "cell_type": "code",
   "execution_count": 22,
   "metadata": {},
   "outputs": [
    {
     "data": {
      "text/plain": [
       "(43666, 3)"
      ]
     },
     "execution_count": 22,
     "metadata": {},
     "output_type": "execute_result"
    }
   ],
   "source": [
    "test.shape"
   ]
  },
  {
   "cell_type": "code",
   "execution_count": 23,
   "metadata": {},
   "outputs": [
    {
     "data": {
      "text/html": [
       "<div>\n",
       "<style>\n",
       "    .dataframe thead tr:only-child th {\n",
       "        text-align: right;\n",
       "    }\n",
       "\n",
       "    .dataframe thead th {\n",
       "        text-align: left;\n",
       "    }\n",
       "\n",
       "    .dataframe tbody tr th {\n",
       "        vertical-align: top;\n",
       "    }\n",
       "</style>\n",
       "<table border=\"1\" class=\"dataframe\">\n",
       "  <thead>\n",
       "    <tr style=\"text-align: right;\">\n",
       "      <th></th>\n",
       "      <th>username</th>\n",
       "      <th>subreddit</th>\n",
       "      <th>count_per_subreddit_of_user</th>\n",
       "    </tr>\n",
       "  </thead>\n",
       "  <tbody>\n",
       "    <tr>\n",
       "      <th>343084</th>\n",
       "      <td>RastaTeddyBear</td>\n",
       "      <td>postmates</td>\n",
       "      <td>11</td>\n",
       "    </tr>\n",
       "    <tr>\n",
       "      <th>351812</th>\n",
       "      <td>Rhumald</td>\n",
       "      <td>AdviceAnimals</td>\n",
       "      <td>32</td>\n",
       "    </tr>\n",
       "    <tr>\n",
       "      <th>735239</th>\n",
       "      <td>nikolaibk</td>\n",
       "      <td>trees</td>\n",
       "      <td>18</td>\n",
       "    </tr>\n",
       "    <tr>\n",
       "      <th>857719</th>\n",
       "      <td>typicalredditor8</td>\n",
       "      <td>KenM</td>\n",
       "      <td>13</td>\n",
       "    </tr>\n",
       "    <tr>\n",
       "      <th>763386</th>\n",
       "      <td>poppyseedtoast</td>\n",
       "      <td>AskWomen</td>\n",
       "      <td>24</td>\n",
       "    </tr>\n",
       "  </tbody>\n",
       "</table>\n",
       "</div>"
      ],
      "text/plain": [
       "                username      subreddit  count_per_subreddit_of_user\n",
       "343084    RastaTeddyBear      postmates                           11\n",
       "351812           Rhumald  AdviceAnimals                           32\n",
       "735239         nikolaibk          trees                           18\n",
       "857719  typicalredditor8           KenM                           13\n",
       "763386    poppyseedtoast       AskWomen                           24"
      ]
     },
     "execution_count": 23,
     "metadata": {},
     "output_type": "execute_result"
    }
   ],
   "source": [
    "train.head()"
   ]
  },
  {
   "cell_type": "markdown",
   "metadata": {},
   "source": [
    "## Creating pivot tables to generate sparse matrix "
   ]
  },
  {
   "cell_type": "code",
   "execution_count": 24,
   "metadata": {
    "collapsed": true
   },
   "outputs": [],
   "source": [
    "pivot_train = train.pivot(index='username', columns='subreddit')"
   ]
  },
  {
   "cell_type": "code",
   "execution_count": 25,
   "metadata": {},
   "outputs": [
    {
     "data": {
      "text/html": [
       "<div>\n",
       "<style>\n",
       "    .dataframe thead tr:only-child th {\n",
       "        text-align: right;\n",
       "    }\n",
       "\n",
       "    .dataframe thead th {\n",
       "        text-align: left;\n",
       "    }\n",
       "\n",
       "    .dataframe tbody tr th {\n",
       "        vertical-align: top;\n",
       "    }\n",
       "</style>\n",
       "<table border=\"1\" class=\"dataframe\">\n",
       "  <thead>\n",
       "    <tr>\n",
       "      <th></th>\n",
       "      <th colspan=\"21\" halign=\"left\">count_per_subreddit_of_user</th>\n",
       "    </tr>\n",
       "    <tr>\n",
       "      <th>subreddit</th>\n",
       "      <th>100DayComicChallenge</th>\n",
       "      <th>100yearsago</th>\n",
       "      <th>10Sound</th>\n",
       "      <th>10cloverfieldlane</th>\n",
       "      <th>1200isplenty</th>\n",
       "      <th>1200isplentyketo</th>\n",
       "      <th>12ozmouse</th>\n",
       "      <th>1911</th>\n",
       "      <th>1P_LSD</th>\n",
       "      <th>1PugLife</th>\n",
       "      <th>...</th>\n",
       "      <th>zerocarb</th>\n",
       "      <th>zeronet</th>\n",
       "      <th>zfs</th>\n",
       "      <th>zombicide</th>\n",
       "      <th>zombies</th>\n",
       "      <th>zoophilia</th>\n",
       "      <th>zootopia</th>\n",
       "      <th>zurich</th>\n",
       "      <th>zyramains</th>\n",
       "      <th>zzt</th>\n",
       "    </tr>\n",
       "    <tr>\n",
       "      <th>username</th>\n",
       "      <th></th>\n",
       "      <th></th>\n",
       "      <th></th>\n",
       "      <th></th>\n",
       "      <th></th>\n",
       "      <th></th>\n",
       "      <th></th>\n",
       "      <th></th>\n",
       "      <th></th>\n",
       "      <th></th>\n",
       "      <th></th>\n",
       "      <th></th>\n",
       "      <th></th>\n",
       "      <th></th>\n",
       "      <th></th>\n",
       "      <th></th>\n",
       "      <th></th>\n",
       "      <th></th>\n",
       "      <th></th>\n",
       "      <th></th>\n",
       "      <th></th>\n",
       "    </tr>\n",
       "  </thead>\n",
       "  <tbody>\n",
       "    <tr>\n",
       "      <th>--ANUSTART-</th>\n",
       "      <td>NaN</td>\n",
       "      <td>NaN</td>\n",
       "      <td>NaN</td>\n",
       "      <td>NaN</td>\n",
       "      <td>NaN</td>\n",
       "      <td>NaN</td>\n",
       "      <td>NaN</td>\n",
       "      <td>NaN</td>\n",
       "      <td>NaN</td>\n",
       "      <td>NaN</td>\n",
       "      <td>...</td>\n",
       "      <td>NaN</td>\n",
       "      <td>NaN</td>\n",
       "      <td>NaN</td>\n",
       "      <td>NaN</td>\n",
       "      <td>NaN</td>\n",
       "      <td>NaN</td>\n",
       "      <td>NaN</td>\n",
       "      <td>NaN</td>\n",
       "      <td>NaN</td>\n",
       "      <td>NaN</td>\n",
       "    </tr>\n",
       "    <tr>\n",
       "      <th>--Sko--</th>\n",
       "      <td>NaN</td>\n",
       "      <td>NaN</td>\n",
       "      <td>NaN</td>\n",
       "      <td>NaN</td>\n",
       "      <td>NaN</td>\n",
       "      <td>NaN</td>\n",
       "      <td>NaN</td>\n",
       "      <td>NaN</td>\n",
       "      <td>NaN</td>\n",
       "      <td>NaN</td>\n",
       "      <td>...</td>\n",
       "      <td>NaN</td>\n",
       "      <td>NaN</td>\n",
       "      <td>NaN</td>\n",
       "      <td>NaN</td>\n",
       "      <td>NaN</td>\n",
       "      <td>NaN</td>\n",
       "      <td>NaN</td>\n",
       "      <td>NaN</td>\n",
       "      <td>NaN</td>\n",
       "      <td>NaN</td>\n",
       "    </tr>\n",
       "    <tr>\n",
       "      <th>--UNKN0WN--</th>\n",
       "      <td>NaN</td>\n",
       "      <td>NaN</td>\n",
       "      <td>NaN</td>\n",
       "      <td>NaN</td>\n",
       "      <td>NaN</td>\n",
       "      <td>NaN</td>\n",
       "      <td>NaN</td>\n",
       "      <td>NaN</td>\n",
       "      <td>NaN</td>\n",
       "      <td>NaN</td>\n",
       "      <td>...</td>\n",
       "      <td>NaN</td>\n",
       "      <td>NaN</td>\n",
       "      <td>NaN</td>\n",
       "      <td>NaN</td>\n",
       "      <td>NaN</td>\n",
       "      <td>NaN</td>\n",
       "      <td>NaN</td>\n",
       "      <td>NaN</td>\n",
       "      <td>NaN</td>\n",
       "      <td>NaN</td>\n",
       "    </tr>\n",
       "    <tr>\n",
       "      <th>--harley--quinn--</th>\n",
       "      <td>NaN</td>\n",
       "      <td>NaN</td>\n",
       "      <td>NaN</td>\n",
       "      <td>NaN</td>\n",
       "      <td>NaN</td>\n",
       "      <td>NaN</td>\n",
       "      <td>NaN</td>\n",
       "      <td>NaN</td>\n",
       "      <td>NaN</td>\n",
       "      <td>NaN</td>\n",
       "      <td>...</td>\n",
       "      <td>NaN</td>\n",
       "      <td>NaN</td>\n",
       "      <td>NaN</td>\n",
       "      <td>NaN</td>\n",
       "      <td>NaN</td>\n",
       "      <td>NaN</td>\n",
       "      <td>NaN</td>\n",
       "      <td>NaN</td>\n",
       "      <td>NaN</td>\n",
       "      <td>NaN</td>\n",
       "    </tr>\n",
       "    <tr>\n",
       "      <th>-AragornElessar-</th>\n",
       "      <td>NaN</td>\n",
       "      <td>NaN</td>\n",
       "      <td>NaN</td>\n",
       "      <td>NaN</td>\n",
       "      <td>NaN</td>\n",
       "      <td>NaN</td>\n",
       "      <td>NaN</td>\n",
       "      <td>NaN</td>\n",
       "      <td>NaN</td>\n",
       "      <td>NaN</td>\n",
       "      <td>...</td>\n",
       "      <td>NaN</td>\n",
       "      <td>NaN</td>\n",
       "      <td>NaN</td>\n",
       "      <td>NaN</td>\n",
       "      <td>NaN</td>\n",
       "      <td>NaN</td>\n",
       "      <td>NaN</td>\n",
       "      <td>NaN</td>\n",
       "      <td>NaN</td>\n",
       "      <td>NaN</td>\n",
       "    </tr>\n",
       "  </tbody>\n",
       "</table>\n",
       "<p>5 rows × 8270 columns</p>\n",
       "</div>"
      ],
      "text/plain": [
       "                  count_per_subreddit_of_user                      \\\n",
       "subreddit                100DayComicChallenge 100yearsago 10Sound   \n",
       "username                                                            \n",
       "--ANUSTART-                               NaN         NaN     NaN   \n",
       "--Sko--                                   NaN         NaN     NaN   \n",
       "--UNKN0WN--                               NaN         NaN     NaN   \n",
       "--harley--quinn--                         NaN         NaN     NaN   \n",
       "-AragornElessar-                          NaN         NaN     NaN   \n",
       "\n",
       "                                                                             \\\n",
       "subreddit         10cloverfieldlane 1200isplenty 1200isplentyketo 12ozmouse   \n",
       "username                                                                      \n",
       "--ANUSTART-                     NaN          NaN              NaN       NaN   \n",
       "--Sko--                         NaN          NaN              NaN       NaN   \n",
       "--UNKN0WN--                     NaN          NaN              NaN       NaN   \n",
       "--harley--quinn--               NaN          NaN              NaN       NaN   \n",
       "-AragornElessar-                NaN          NaN              NaN       NaN   \n",
       "\n",
       "                                       ...                                 \\\n",
       "subreddit         1911 1P_LSD 1PugLife ... zerocarb zeronet zfs zombicide   \n",
       "username                               ...                                  \n",
       "--ANUSTART-        NaN    NaN      NaN ...      NaN     NaN NaN       NaN   \n",
       "--Sko--            NaN    NaN      NaN ...      NaN     NaN NaN       NaN   \n",
       "--UNKN0WN--        NaN    NaN      NaN ...      NaN     NaN NaN       NaN   \n",
       "--harley--quinn--  NaN    NaN      NaN ...      NaN     NaN NaN       NaN   \n",
       "-AragornElessar-   NaN    NaN      NaN ...      NaN     NaN NaN       NaN   \n",
       "\n",
       "                                                                   \n",
       "subreddit         zombies zoophilia zootopia zurich zyramains zzt  \n",
       "username                                                           \n",
       "--ANUSTART-           NaN       NaN      NaN    NaN       NaN NaN  \n",
       "--Sko--               NaN       NaN      NaN    NaN       NaN NaN  \n",
       "--UNKN0WN--           NaN       NaN      NaN    NaN       NaN NaN  \n",
       "--harley--quinn--     NaN       NaN      NaN    NaN       NaN NaN  \n",
       "-AragornElessar-      NaN       NaN      NaN    NaN       NaN NaN  \n",
       "\n",
       "[5 rows x 8270 columns]"
      ]
     },
     "execution_count": 25,
     "metadata": {},
     "output_type": "execute_result"
    }
   ],
   "source": [
    "pivot_train.head()"
   ]
  },
  {
   "cell_type": "code",
   "execution_count": 26,
   "metadata": {
    "collapsed": true
   },
   "outputs": [],
   "source": [
    "pivot_test = test.pivot(index='username', columns='subreddit')"
   ]
  },
  {
   "cell_type": "code",
   "execution_count": 27,
   "metadata": {},
   "outputs": [
    {
     "data": {
      "text/html": [
       "<div>\n",
       "<style>\n",
       "    .dataframe thead tr:only-child th {\n",
       "        text-align: right;\n",
       "    }\n",
       "\n",
       "    .dataframe thead th {\n",
       "        text-align: left;\n",
       "    }\n",
       "\n",
       "    .dataframe tbody tr th {\n",
       "        vertical-align: top;\n",
       "    }\n",
       "</style>\n",
       "<table border=\"1\" class=\"dataframe\">\n",
       "  <thead>\n",
       "    <tr>\n",
       "      <th></th>\n",
       "      <th colspan=\"21\" halign=\"left\">count_per_subreddit_of_user</th>\n",
       "    </tr>\n",
       "    <tr>\n",
       "      <th>subreddit</th>\n",
       "      <th>1200isplenty</th>\n",
       "      <th>1200isplentyketo</th>\n",
       "      <th>12thMan</th>\n",
       "      <th>1P_LSD</th>\n",
       "      <th>2007scape</th>\n",
       "      <th>2016Elections</th>\n",
       "      <th>2016splits</th>\n",
       "      <th>2KOA</th>\n",
       "      <th>2b2t</th>\n",
       "      <th>2cb</th>\n",
       "      <th>...</th>\n",
       "      <th>zatchbell</th>\n",
       "      <th>zec</th>\n",
       "      <th>zedmains</th>\n",
       "      <th>zelda</th>\n",
       "      <th>zen</th>\n",
       "      <th>zeronet</th>\n",
       "      <th>zizek</th>\n",
       "      <th>zootopia</th>\n",
       "      <th>zyramains</th>\n",
       "      <th>zyzz</th>\n",
       "    </tr>\n",
       "    <tr>\n",
       "      <th>username</th>\n",
       "      <th></th>\n",
       "      <th></th>\n",
       "      <th></th>\n",
       "      <th></th>\n",
       "      <th></th>\n",
       "      <th></th>\n",
       "      <th></th>\n",
       "      <th></th>\n",
       "      <th></th>\n",
       "      <th></th>\n",
       "      <th></th>\n",
       "      <th></th>\n",
       "      <th></th>\n",
       "      <th></th>\n",
       "      <th></th>\n",
       "      <th></th>\n",
       "      <th></th>\n",
       "      <th></th>\n",
       "      <th></th>\n",
       "      <th></th>\n",
       "      <th></th>\n",
       "    </tr>\n",
       "  </thead>\n",
       "  <tbody>\n",
       "    <tr>\n",
       "      <th>--ANUSTART-</th>\n",
       "      <td>NaN</td>\n",
       "      <td>NaN</td>\n",
       "      <td>NaN</td>\n",
       "      <td>NaN</td>\n",
       "      <td>NaN</td>\n",
       "      <td>NaN</td>\n",
       "      <td>NaN</td>\n",
       "      <td>NaN</td>\n",
       "      <td>NaN</td>\n",
       "      <td>NaN</td>\n",
       "      <td>...</td>\n",
       "      <td>NaN</td>\n",
       "      <td>NaN</td>\n",
       "      <td>NaN</td>\n",
       "      <td>NaN</td>\n",
       "      <td>NaN</td>\n",
       "      <td>NaN</td>\n",
       "      <td>NaN</td>\n",
       "      <td>NaN</td>\n",
       "      <td>NaN</td>\n",
       "      <td>NaN</td>\n",
       "    </tr>\n",
       "    <tr>\n",
       "      <th>--UNKN0WN--</th>\n",
       "      <td>NaN</td>\n",
       "      <td>NaN</td>\n",
       "      <td>NaN</td>\n",
       "      <td>NaN</td>\n",
       "      <td>NaN</td>\n",
       "      <td>NaN</td>\n",
       "      <td>NaN</td>\n",
       "      <td>NaN</td>\n",
       "      <td>NaN</td>\n",
       "      <td>NaN</td>\n",
       "      <td>...</td>\n",
       "      <td>NaN</td>\n",
       "      <td>NaN</td>\n",
       "      <td>NaN</td>\n",
       "      <td>NaN</td>\n",
       "      <td>NaN</td>\n",
       "      <td>NaN</td>\n",
       "      <td>NaN</td>\n",
       "      <td>NaN</td>\n",
       "      <td>NaN</td>\n",
       "      <td>NaN</td>\n",
       "    </tr>\n",
       "    <tr>\n",
       "      <th>--harley--quinn--</th>\n",
       "      <td>NaN</td>\n",
       "      <td>NaN</td>\n",
       "      <td>NaN</td>\n",
       "      <td>NaN</td>\n",
       "      <td>NaN</td>\n",
       "      <td>NaN</td>\n",
       "      <td>NaN</td>\n",
       "      <td>NaN</td>\n",
       "      <td>NaN</td>\n",
       "      <td>NaN</td>\n",
       "      <td>...</td>\n",
       "      <td>NaN</td>\n",
       "      <td>NaN</td>\n",
       "      <td>NaN</td>\n",
       "      <td>NaN</td>\n",
       "      <td>NaN</td>\n",
       "      <td>NaN</td>\n",
       "      <td>NaN</td>\n",
       "      <td>NaN</td>\n",
       "      <td>NaN</td>\n",
       "      <td>NaN</td>\n",
       "    </tr>\n",
       "    <tr>\n",
       "      <th>-AragornElessar-</th>\n",
       "      <td>NaN</td>\n",
       "      <td>NaN</td>\n",
       "      <td>NaN</td>\n",
       "      <td>NaN</td>\n",
       "      <td>NaN</td>\n",
       "      <td>NaN</td>\n",
       "      <td>NaN</td>\n",
       "      <td>NaN</td>\n",
       "      <td>NaN</td>\n",
       "      <td>NaN</td>\n",
       "      <td>...</td>\n",
       "      <td>NaN</td>\n",
       "      <td>NaN</td>\n",
       "      <td>NaN</td>\n",
       "      <td>NaN</td>\n",
       "      <td>NaN</td>\n",
       "      <td>NaN</td>\n",
       "      <td>NaN</td>\n",
       "      <td>NaN</td>\n",
       "      <td>NaN</td>\n",
       "      <td>NaN</td>\n",
       "    </tr>\n",
       "    <tr>\n",
       "      <th>-BipolarPolarBear-</th>\n",
       "      <td>NaN</td>\n",
       "      <td>NaN</td>\n",
       "      <td>NaN</td>\n",
       "      <td>NaN</td>\n",
       "      <td>NaN</td>\n",
       "      <td>NaN</td>\n",
       "      <td>NaN</td>\n",
       "      <td>NaN</td>\n",
       "      <td>NaN</td>\n",
       "      <td>NaN</td>\n",
       "      <td>...</td>\n",
       "      <td>NaN</td>\n",
       "      <td>NaN</td>\n",
       "      <td>NaN</td>\n",
       "      <td>NaN</td>\n",
       "      <td>NaN</td>\n",
       "      <td>NaN</td>\n",
       "      <td>NaN</td>\n",
       "      <td>NaN</td>\n",
       "      <td>NaN</td>\n",
       "      <td>NaN</td>\n",
       "    </tr>\n",
       "  </tbody>\n",
       "</table>\n",
       "<p>5 rows × 5685 columns</p>\n",
       "</div>"
      ],
      "text/plain": [
       "                   count_per_subreddit_of_user                           \\\n",
       "subreddit                         1200isplenty 1200isplentyketo 12thMan   \n",
       "username                                                                  \n",
       "--ANUSTART-                                NaN              NaN     NaN   \n",
       "--UNKN0WN--                                NaN              NaN     NaN   \n",
       "--harley--quinn--                          NaN              NaN     NaN   \n",
       "-AragornElessar-                           NaN              NaN     NaN   \n",
       "-BipolarPolarBear-                         NaN              NaN     NaN   \n",
       "\n",
       "                                                                            \\\n",
       "subreddit          1P_LSD 2007scape 2016Elections 2016splits 2KOA 2b2t 2cb   \n",
       "username                                                                     \n",
       "--ANUSTART-           NaN       NaN           NaN        NaN  NaN  NaN NaN   \n",
       "--UNKN0WN--           NaN       NaN           NaN        NaN  NaN  NaN NaN   \n",
       "--harley--quinn--     NaN       NaN           NaN        NaN  NaN  NaN NaN   \n",
       "-AragornElessar-      NaN       NaN           NaN        NaN  NaN  NaN NaN   \n",
       "-BipolarPolarBear-    NaN       NaN           NaN        NaN  NaN  NaN NaN   \n",
       "\n",
       "                   ...                                                  \\\n",
       "subreddit          ...  zatchbell zec zedmains zelda zen zeronet zizek   \n",
       "username           ...                                                   \n",
       "--ANUSTART-        ...        NaN NaN      NaN   NaN NaN     NaN   NaN   \n",
       "--UNKN0WN--        ...        NaN NaN      NaN   NaN NaN     NaN   NaN   \n",
       "--harley--quinn--  ...        NaN NaN      NaN   NaN NaN     NaN   NaN   \n",
       "-AragornElessar-   ...        NaN NaN      NaN   NaN NaN     NaN   NaN   \n",
       "-BipolarPolarBear- ...        NaN NaN      NaN   NaN NaN     NaN   NaN   \n",
       "\n",
       "                                            \n",
       "subreddit          zootopia zyramains zyzz  \n",
       "username                                    \n",
       "--ANUSTART-             NaN       NaN  NaN  \n",
       "--UNKN0WN--             NaN       NaN  NaN  \n",
       "--harley--quinn--       NaN       NaN  NaN  \n",
       "-AragornElessar-        NaN       NaN  NaN  \n",
       "-BipolarPolarBear-      NaN       NaN  NaN  \n",
       "\n",
       "[5 rows x 5685 columns]"
      ]
     },
     "execution_count": 27,
     "metadata": {},
     "output_type": "execute_result"
    }
   ],
   "source": [
    "pivot_test.head()"
   ]
  },
  {
   "cell_type": "code",
   "execution_count": 28,
   "metadata": {},
   "outputs": [
    {
     "name": "stdout",
     "output_type": "stream",
     "text": [
      "<class 'pandas.core.frame.DataFrame'>\n",
      "Index: 18169 entries, --ANUSTART- to zzy_\n",
      "Columns: 8270 entries, (count_per_subreddit_of_user, 100DayComicChallenge) to (count_per_subreddit_of_user, zzt)\n",
      "dtypes: float64(8270)\n",
      "memory usage: 1.1+ GB\n"
     ]
    }
   ],
   "source": [
    "pivot_train.info()"
   ]
  },
  {
   "cell_type": "markdown",
   "metadata": {},
   "source": [
    "## Taking a sample from training data"
   ]
  },
  {
   "cell_type": "code",
   "execution_count": 29,
   "metadata": {
    "collapsed": true
   },
   "outputs": [],
   "source": [
    "sample = pivot_train.sample(frac=0.1)"
   ]
  },
  {
   "cell_type": "code",
   "execution_count": 30,
   "metadata": {},
   "outputs": [
    {
     "data": {
      "text/html": [
       "<div>\n",
       "<style>\n",
       "    .dataframe thead tr:only-child th {\n",
       "        text-align: right;\n",
       "    }\n",
       "\n",
       "    .dataframe thead th {\n",
       "        text-align: left;\n",
       "    }\n",
       "\n",
       "    .dataframe tbody tr th {\n",
       "        vertical-align: top;\n",
       "    }\n",
       "</style>\n",
       "<table border=\"1\" class=\"dataframe\">\n",
       "  <thead>\n",
       "    <tr>\n",
       "      <th></th>\n",
       "      <th colspan=\"21\" halign=\"left\">count_per_subreddit_of_user</th>\n",
       "    </tr>\n",
       "    <tr>\n",
       "      <th>subreddit</th>\n",
       "      <th>100DayComicChallenge</th>\n",
       "      <th>100yearsago</th>\n",
       "      <th>10Sound</th>\n",
       "      <th>10cloverfieldlane</th>\n",
       "      <th>1200isplenty</th>\n",
       "      <th>1200isplentyketo</th>\n",
       "      <th>12ozmouse</th>\n",
       "      <th>1911</th>\n",
       "      <th>1P_LSD</th>\n",
       "      <th>1PugLife</th>\n",
       "      <th>...</th>\n",
       "      <th>zerocarb</th>\n",
       "      <th>zeronet</th>\n",
       "      <th>zfs</th>\n",
       "      <th>zombicide</th>\n",
       "      <th>zombies</th>\n",
       "      <th>zoophilia</th>\n",
       "      <th>zootopia</th>\n",
       "      <th>zurich</th>\n",
       "      <th>zyramains</th>\n",
       "      <th>zzt</th>\n",
       "    </tr>\n",
       "    <tr>\n",
       "      <th>username</th>\n",
       "      <th></th>\n",
       "      <th></th>\n",
       "      <th></th>\n",
       "      <th></th>\n",
       "      <th></th>\n",
       "      <th></th>\n",
       "      <th></th>\n",
       "      <th></th>\n",
       "      <th></th>\n",
       "      <th></th>\n",
       "      <th></th>\n",
       "      <th></th>\n",
       "      <th></th>\n",
       "      <th></th>\n",
       "      <th></th>\n",
       "      <th></th>\n",
       "      <th></th>\n",
       "      <th></th>\n",
       "      <th></th>\n",
       "      <th></th>\n",
       "      <th></th>\n",
       "    </tr>\n",
       "  </thead>\n",
       "  <tbody>\n",
       "    <tr>\n",
       "      <th>wordsoundpower</th>\n",
       "      <td>NaN</td>\n",
       "      <td>NaN</td>\n",
       "      <td>NaN</td>\n",
       "      <td>NaN</td>\n",
       "      <td>NaN</td>\n",
       "      <td>NaN</td>\n",
       "      <td>NaN</td>\n",
       "      <td>NaN</td>\n",
       "      <td>NaN</td>\n",
       "      <td>NaN</td>\n",
       "      <td>...</td>\n",
       "      <td>NaN</td>\n",
       "      <td>NaN</td>\n",
       "      <td>NaN</td>\n",
       "      <td>NaN</td>\n",
       "      <td>NaN</td>\n",
       "      <td>NaN</td>\n",
       "      <td>NaN</td>\n",
       "      <td>NaN</td>\n",
       "      <td>NaN</td>\n",
       "      <td>NaN</td>\n",
       "    </tr>\n",
       "    <tr>\n",
       "      <th>Grunt08</th>\n",
       "      <td>NaN</td>\n",
       "      <td>NaN</td>\n",
       "      <td>NaN</td>\n",
       "      <td>NaN</td>\n",
       "      <td>NaN</td>\n",
       "      <td>NaN</td>\n",
       "      <td>NaN</td>\n",
       "      <td>NaN</td>\n",
       "      <td>NaN</td>\n",
       "      <td>NaN</td>\n",
       "      <td>...</td>\n",
       "      <td>NaN</td>\n",
       "      <td>NaN</td>\n",
       "      <td>NaN</td>\n",
       "      <td>NaN</td>\n",
       "      <td>NaN</td>\n",
       "      <td>NaN</td>\n",
       "      <td>NaN</td>\n",
       "      <td>NaN</td>\n",
       "      <td>NaN</td>\n",
       "      <td>NaN</td>\n",
       "    </tr>\n",
       "    <tr>\n",
       "      <th>stormtrooper412</th>\n",
       "      <td>NaN</td>\n",
       "      <td>NaN</td>\n",
       "      <td>NaN</td>\n",
       "      <td>NaN</td>\n",
       "      <td>NaN</td>\n",
       "      <td>NaN</td>\n",
       "      <td>NaN</td>\n",
       "      <td>NaN</td>\n",
       "      <td>NaN</td>\n",
       "      <td>NaN</td>\n",
       "      <td>...</td>\n",
       "      <td>NaN</td>\n",
       "      <td>NaN</td>\n",
       "      <td>NaN</td>\n",
       "      <td>NaN</td>\n",
       "      <td>NaN</td>\n",
       "      <td>NaN</td>\n",
       "      <td>NaN</td>\n",
       "      <td>NaN</td>\n",
       "      <td>NaN</td>\n",
       "      <td>NaN</td>\n",
       "    </tr>\n",
       "    <tr>\n",
       "      <th>shabba_rei</th>\n",
       "      <td>NaN</td>\n",
       "      <td>NaN</td>\n",
       "      <td>NaN</td>\n",
       "      <td>NaN</td>\n",
       "      <td>NaN</td>\n",
       "      <td>NaN</td>\n",
       "      <td>NaN</td>\n",
       "      <td>NaN</td>\n",
       "      <td>NaN</td>\n",
       "      <td>NaN</td>\n",
       "      <td>...</td>\n",
       "      <td>NaN</td>\n",
       "      <td>NaN</td>\n",
       "      <td>NaN</td>\n",
       "      <td>NaN</td>\n",
       "      <td>NaN</td>\n",
       "      <td>NaN</td>\n",
       "      <td>NaN</td>\n",
       "      <td>NaN</td>\n",
       "      <td>NaN</td>\n",
       "      <td>NaN</td>\n",
       "    </tr>\n",
       "    <tr>\n",
       "      <th>devinesigns</th>\n",
       "      <td>NaN</td>\n",
       "      <td>NaN</td>\n",
       "      <td>NaN</td>\n",
       "      <td>NaN</td>\n",
       "      <td>NaN</td>\n",
       "      <td>NaN</td>\n",
       "      <td>NaN</td>\n",
       "      <td>NaN</td>\n",
       "      <td>NaN</td>\n",
       "      <td>NaN</td>\n",
       "      <td>...</td>\n",
       "      <td>NaN</td>\n",
       "      <td>NaN</td>\n",
       "      <td>NaN</td>\n",
       "      <td>NaN</td>\n",
       "      <td>NaN</td>\n",
       "      <td>NaN</td>\n",
       "      <td>NaN</td>\n",
       "      <td>NaN</td>\n",
       "      <td>NaN</td>\n",
       "      <td>NaN</td>\n",
       "    </tr>\n",
       "  </tbody>\n",
       "</table>\n",
       "<p>5 rows × 8270 columns</p>\n",
       "</div>"
      ],
      "text/plain": [
       "                count_per_subreddit_of_user                      \\\n",
       "subreddit              100DayComicChallenge 100yearsago 10Sound   \n",
       "username                                                          \n",
       "wordsoundpower                          NaN         NaN     NaN   \n",
       "Grunt08                                 NaN         NaN     NaN   \n",
       "stormtrooper412                         NaN         NaN     NaN   \n",
       "shabba_rei                              NaN         NaN     NaN   \n",
       "devinesigns                             NaN         NaN     NaN   \n",
       "\n",
       "                                                                           \\\n",
       "subreddit       10cloverfieldlane 1200isplenty 1200isplentyketo 12ozmouse   \n",
       "username                                                                    \n",
       "wordsoundpower                NaN          NaN              NaN       NaN   \n",
       "Grunt08                       NaN          NaN              NaN       NaN   \n",
       "stormtrooper412               NaN          NaN              NaN       NaN   \n",
       "shabba_rei                    NaN          NaN              NaN       NaN   \n",
       "devinesigns                   NaN          NaN              NaN       NaN   \n",
       "\n",
       "                                     ...                                 \\\n",
       "subreddit       1911 1P_LSD 1PugLife ... zerocarb zeronet zfs zombicide   \n",
       "username                             ...                                  \n",
       "wordsoundpower   NaN    NaN      NaN ...      NaN     NaN NaN       NaN   \n",
       "Grunt08          NaN    NaN      NaN ...      NaN     NaN NaN       NaN   \n",
       "stormtrooper412  NaN    NaN      NaN ...      NaN     NaN NaN       NaN   \n",
       "shabba_rei       NaN    NaN      NaN ...      NaN     NaN NaN       NaN   \n",
       "devinesigns      NaN    NaN      NaN ...      NaN     NaN NaN       NaN   \n",
       "\n",
       "                                                                 \n",
       "subreddit       zombies zoophilia zootopia zurich zyramains zzt  \n",
       "username                                                         \n",
       "wordsoundpower      NaN       NaN      NaN    NaN       NaN NaN  \n",
       "Grunt08             NaN       NaN      NaN    NaN       NaN NaN  \n",
       "stormtrooper412     NaN       NaN      NaN    NaN       NaN NaN  \n",
       "shabba_rei          NaN       NaN      NaN    NaN       NaN NaN  \n",
       "devinesigns         NaN       NaN      NaN    NaN       NaN NaN  \n",
       "\n",
       "[5 rows x 8270 columns]"
      ]
     },
     "execution_count": 30,
     "metadata": {},
     "output_type": "execute_result"
    }
   ],
   "source": [
    "sample.head()"
   ]
  },
  {
   "cell_type": "code",
   "execution_count": 31,
   "metadata": {},
   "outputs": [
    {
     "name": "stdout",
     "output_type": "stream",
     "text": [
      "<class 'pandas.core.frame.DataFrame'>\n",
      "Index: 1817 entries, wordsoundpower to Kirk781\n",
      "Columns: 8270 entries, (count_per_subreddit_of_user, 100DayComicChallenge) to (count_per_subreddit_of_user, zzt)\n",
      "dtypes: float64(8270)\n",
      "memory usage: 114.7+ MB\n"
     ]
    }
   ],
   "source": [
    "sample.info()"
   ]
  },
  {
   "cell_type": "code",
   "execution_count": 32,
   "metadata": {},
   "outputs": [
    {
     "data": {
      "text/plain": [
       "282252.0"
      ]
     },
     "execution_count": 32,
     "metadata": {},
     "output_type": "execute_result"
    }
   ],
   "source": [
    "np.nansum(sample.values)"
   ]
  },
  {
   "cell_type": "code",
   "execution_count": 33,
   "metadata": {
    "collapsed": true
   },
   "outputs": [],
   "source": [
    "sample.fillna(0, inplace=True)"
   ]
  },
  {
   "cell_type": "code",
   "execution_count": 34,
   "metadata": {},
   "outputs": [
    {
     "data": {
      "text/html": [
       "<div>\n",
       "<style>\n",
       "    .dataframe thead tr:only-child th {\n",
       "        text-align: right;\n",
       "    }\n",
       "\n",
       "    .dataframe thead th {\n",
       "        text-align: left;\n",
       "    }\n",
       "\n",
       "    .dataframe tbody tr th {\n",
       "        vertical-align: top;\n",
       "    }\n",
       "</style>\n",
       "<table border=\"1\" class=\"dataframe\">\n",
       "  <thead>\n",
       "    <tr>\n",
       "      <th></th>\n",
       "      <th colspan=\"21\" halign=\"left\">count_per_subreddit_of_user</th>\n",
       "    </tr>\n",
       "    <tr>\n",
       "      <th>subreddit</th>\n",
       "      <th>100DayComicChallenge</th>\n",
       "      <th>100yearsago</th>\n",
       "      <th>10Sound</th>\n",
       "      <th>10cloverfieldlane</th>\n",
       "      <th>1200isplenty</th>\n",
       "      <th>1200isplentyketo</th>\n",
       "      <th>12ozmouse</th>\n",
       "      <th>1911</th>\n",
       "      <th>1P_LSD</th>\n",
       "      <th>1PugLife</th>\n",
       "      <th>...</th>\n",
       "      <th>zerocarb</th>\n",
       "      <th>zeronet</th>\n",
       "      <th>zfs</th>\n",
       "      <th>zombicide</th>\n",
       "      <th>zombies</th>\n",
       "      <th>zoophilia</th>\n",
       "      <th>zootopia</th>\n",
       "      <th>zurich</th>\n",
       "      <th>zyramains</th>\n",
       "      <th>zzt</th>\n",
       "    </tr>\n",
       "    <tr>\n",
       "      <th>username</th>\n",
       "      <th></th>\n",
       "      <th></th>\n",
       "      <th></th>\n",
       "      <th></th>\n",
       "      <th></th>\n",
       "      <th></th>\n",
       "      <th></th>\n",
       "      <th></th>\n",
       "      <th></th>\n",
       "      <th></th>\n",
       "      <th></th>\n",
       "      <th></th>\n",
       "      <th></th>\n",
       "      <th></th>\n",
       "      <th></th>\n",
       "      <th></th>\n",
       "      <th></th>\n",
       "      <th></th>\n",
       "      <th></th>\n",
       "      <th></th>\n",
       "      <th></th>\n",
       "    </tr>\n",
       "  </thead>\n",
       "  <tbody>\n",
       "    <tr>\n",
       "      <th>wordsoundpower</th>\n",
       "      <td>0.0</td>\n",
       "      <td>0.0</td>\n",
       "      <td>0.0</td>\n",
       "      <td>0.0</td>\n",
       "      <td>0.0</td>\n",
       "      <td>0.0</td>\n",
       "      <td>0.0</td>\n",
       "      <td>0.0</td>\n",
       "      <td>0.0</td>\n",
       "      <td>0.0</td>\n",
       "      <td>...</td>\n",
       "      <td>0.0</td>\n",
       "      <td>0.0</td>\n",
       "      <td>0.0</td>\n",
       "      <td>0.0</td>\n",
       "      <td>0.0</td>\n",
       "      <td>0.0</td>\n",
       "      <td>0.0</td>\n",
       "      <td>0.0</td>\n",
       "      <td>0.0</td>\n",
       "      <td>0.0</td>\n",
       "    </tr>\n",
       "    <tr>\n",
       "      <th>Grunt08</th>\n",
       "      <td>0.0</td>\n",
       "      <td>0.0</td>\n",
       "      <td>0.0</td>\n",
       "      <td>0.0</td>\n",
       "      <td>0.0</td>\n",
       "      <td>0.0</td>\n",
       "      <td>0.0</td>\n",
       "      <td>0.0</td>\n",
       "      <td>0.0</td>\n",
       "      <td>0.0</td>\n",
       "      <td>...</td>\n",
       "      <td>0.0</td>\n",
       "      <td>0.0</td>\n",
       "      <td>0.0</td>\n",
       "      <td>0.0</td>\n",
       "      <td>0.0</td>\n",
       "      <td>0.0</td>\n",
       "      <td>0.0</td>\n",
       "      <td>0.0</td>\n",
       "      <td>0.0</td>\n",
       "      <td>0.0</td>\n",
       "    </tr>\n",
       "    <tr>\n",
       "      <th>stormtrooper412</th>\n",
       "      <td>0.0</td>\n",
       "      <td>0.0</td>\n",
       "      <td>0.0</td>\n",
       "      <td>0.0</td>\n",
       "      <td>0.0</td>\n",
       "      <td>0.0</td>\n",
       "      <td>0.0</td>\n",
       "      <td>0.0</td>\n",
       "      <td>0.0</td>\n",
       "      <td>0.0</td>\n",
       "      <td>...</td>\n",
       "      <td>0.0</td>\n",
       "      <td>0.0</td>\n",
       "      <td>0.0</td>\n",
       "      <td>0.0</td>\n",
       "      <td>0.0</td>\n",
       "      <td>0.0</td>\n",
       "      <td>0.0</td>\n",
       "      <td>0.0</td>\n",
       "      <td>0.0</td>\n",
       "      <td>0.0</td>\n",
       "    </tr>\n",
       "    <tr>\n",
       "      <th>shabba_rei</th>\n",
       "      <td>0.0</td>\n",
       "      <td>0.0</td>\n",
       "      <td>0.0</td>\n",
       "      <td>0.0</td>\n",
       "      <td>0.0</td>\n",
       "      <td>0.0</td>\n",
       "      <td>0.0</td>\n",
       "      <td>0.0</td>\n",
       "      <td>0.0</td>\n",
       "      <td>0.0</td>\n",
       "      <td>...</td>\n",
       "      <td>0.0</td>\n",
       "      <td>0.0</td>\n",
       "      <td>0.0</td>\n",
       "      <td>0.0</td>\n",
       "      <td>0.0</td>\n",
       "      <td>0.0</td>\n",
       "      <td>0.0</td>\n",
       "      <td>0.0</td>\n",
       "      <td>0.0</td>\n",
       "      <td>0.0</td>\n",
       "    </tr>\n",
       "    <tr>\n",
       "      <th>devinesigns</th>\n",
       "      <td>0.0</td>\n",
       "      <td>0.0</td>\n",
       "      <td>0.0</td>\n",
       "      <td>0.0</td>\n",
       "      <td>0.0</td>\n",
       "      <td>0.0</td>\n",
       "      <td>0.0</td>\n",
       "      <td>0.0</td>\n",
       "      <td>0.0</td>\n",
       "      <td>0.0</td>\n",
       "      <td>...</td>\n",
       "      <td>0.0</td>\n",
       "      <td>0.0</td>\n",
       "      <td>0.0</td>\n",
       "      <td>0.0</td>\n",
       "      <td>0.0</td>\n",
       "      <td>0.0</td>\n",
       "      <td>0.0</td>\n",
       "      <td>0.0</td>\n",
       "      <td>0.0</td>\n",
       "      <td>0.0</td>\n",
       "    </tr>\n",
       "  </tbody>\n",
       "</table>\n",
       "<p>5 rows × 8270 columns</p>\n",
       "</div>"
      ],
      "text/plain": [
       "                count_per_subreddit_of_user                      \\\n",
       "subreddit              100DayComicChallenge 100yearsago 10Sound   \n",
       "username                                                          \n",
       "wordsoundpower                          0.0         0.0     0.0   \n",
       "Grunt08                                 0.0         0.0     0.0   \n",
       "stormtrooper412                         0.0         0.0     0.0   \n",
       "shabba_rei                              0.0         0.0     0.0   \n",
       "devinesigns                             0.0         0.0     0.0   \n",
       "\n",
       "                                                                           \\\n",
       "subreddit       10cloverfieldlane 1200isplenty 1200isplentyketo 12ozmouse   \n",
       "username                                                                    \n",
       "wordsoundpower                0.0          0.0              0.0       0.0   \n",
       "Grunt08                       0.0          0.0              0.0       0.0   \n",
       "stormtrooper412               0.0          0.0              0.0       0.0   \n",
       "shabba_rei                    0.0          0.0              0.0       0.0   \n",
       "devinesigns                   0.0          0.0              0.0       0.0   \n",
       "\n",
       "                                     ...                                   \\\n",
       "subreddit       1911 1P_LSD 1PugLife ...  zerocarb zeronet  zfs zombicide   \n",
       "username                             ...                                    \n",
       "wordsoundpower   0.0    0.0      0.0 ...       0.0     0.0  0.0       0.0   \n",
       "Grunt08          0.0    0.0      0.0 ...       0.0     0.0  0.0       0.0   \n",
       "stormtrooper412  0.0    0.0      0.0 ...       0.0     0.0  0.0       0.0   \n",
       "shabba_rei       0.0    0.0      0.0 ...       0.0     0.0  0.0       0.0   \n",
       "devinesigns      0.0    0.0      0.0 ...       0.0     0.0  0.0       0.0   \n",
       "\n",
       "                                                                  \n",
       "subreddit       zombies zoophilia zootopia zurich zyramains  zzt  \n",
       "username                                                          \n",
       "wordsoundpower      0.0       0.0      0.0    0.0       0.0  0.0  \n",
       "Grunt08             0.0       0.0      0.0    0.0       0.0  0.0  \n",
       "stormtrooper412     0.0       0.0      0.0    0.0       0.0  0.0  \n",
       "shabba_rei          0.0       0.0      0.0    0.0       0.0  0.0  \n",
       "devinesigns         0.0       0.0      0.0    0.0       0.0  0.0  \n",
       "\n",
       "[5 rows x 8270 columns]"
      ]
     },
     "execution_count": 34,
     "metadata": {},
     "output_type": "execute_result"
    }
   ],
   "source": [
    "sample.head()"
   ]
  },
  {
   "cell_type": "markdown",
   "metadata": {},
   "source": [
    "# Collaborative Filtering"
   ]
  },
  {
   "cell_type": "markdown",
   "metadata": {},
   "source": [
    "Why collaborative filtering?\n",
    "\n",
    "1. It benefits from large user bases.\n",
    "2. Flexible across domains\n",
    "\n",
    "Challenges of collaborative filtering\n",
    "\n",
    "1. Complexity and expense\n",
    "2. Data sparsity"
   ]
  },
  {
   "cell_type": "code",
   "execution_count": 35,
   "metadata": {
    "collapsed": true
   },
   "outputs": [],
   "source": [
    "# Importing packages for calculating similarity between subreddits and users\n",
    "\n",
    "from sklearn.metrics.pairwise import cosine_similarity"
   ]
  },
  {
   "cell_type": "code",
   "execution_count": 36,
   "metadata": {
    "collapsed": true
   },
   "outputs": [],
   "source": [
    "user_item_matrix = sample.values"
   ]
  },
  {
   "cell_type": "code",
   "execution_count": 37,
   "metadata": {
    "collapsed": true
   },
   "outputs": [],
   "source": [
    "item_user_matrix = user_item_matrix.T"
   ]
  },
  {
   "cell_type": "code",
   "execution_count": 38,
   "metadata": {
    "collapsed": true
   },
   "outputs": [],
   "source": [
    "# Function for building similarity matrix\n",
    "\n",
    "def build_similarity_matrix(matrix):\n",
    "    similarity_matrix = cosine_similarity(matrix)\n",
    "    return(similarity_matrix)"
   ]
  },
  {
   "cell_type": "markdown",
   "metadata": {},
   "source": [
    "## Building Truncated SVDs for user-user and item-item matrix"
   ]
  },
  {
   "cell_type": "code",
   "execution_count": 39,
   "metadata": {
    "collapsed": true
   },
   "outputs": [],
   "source": [
    "# Using Truncated SVD for simplifying calculation\n",
    "\n",
    "from sklearn.decomposition import TruncatedSVD\n",
    "SVD = TruncatedSVD(n_components=7)"
   ]
  },
  {
   "cell_type": "code",
   "execution_count": 40,
   "metadata": {
    "collapsed": true
   },
   "outputs": [],
   "source": [
    "# Generate subreddit-user matrix\n",
    "\n",
    "item_user_svd_matrix = SVD.fit_transform(item_user_matrix)"
   ]
  },
  {
   "cell_type": "code",
   "execution_count": 41,
   "metadata": {},
   "outputs": [
    {
     "data": {
      "text/plain": [
       "array([[  1.30995944e-14,  -3.09368185e-13,  -6.88446315e-14, ...,\n",
       "         -3.57069344e-13,  -3.96417651e-13,  -2.40684156e-13],\n",
       "       [  9.43690015e-17,  -7.10189602e-15,   2.72527959e-13, ...,\n",
       "          2.00269144e-13,   1.64543394e-13,   3.81227995e-14],\n",
       "       [  4.12816452e-19,   1.82979046e-16,   6.57517697e-15, ...,\n",
       "         -3.64254614e-14,  -3.99228299e-14,  -5.31303689e-14],\n",
       "       ..., \n",
       "       [  0.00000000e+00,  -0.00000000e+00,   0.00000000e+00, ...,\n",
       "          0.00000000e+00,   0.00000000e+00,  -0.00000000e+00],\n",
       "       [  0.00000000e+00,  -0.00000000e+00,   0.00000000e+00, ...,\n",
       "          0.00000000e+00,   0.00000000e+00,  -0.00000000e+00],\n",
       "       [  0.00000000e+00,  -0.00000000e+00,   0.00000000e+00, ...,\n",
       "          0.00000000e+00,   0.00000000e+00,  -0.00000000e+00]])"
      ]
     },
     "execution_count": 41,
     "metadata": {},
     "output_type": "execute_result"
    }
   ],
   "source": [
    "item_user_svd_matrix"
   ]
  },
  {
   "cell_type": "code",
   "execution_count": 42,
   "metadata": {
    "collapsed": true
   },
   "outputs": [],
   "source": [
    "# Generate subreddit-subreddit similarity matrix\n",
    "\n",
    "item_similarity_matrix = build_similarity_matrix(item_user_svd_matrix)"
   ]
  },
  {
   "cell_type": "code",
   "execution_count": 43,
   "metadata": {},
   "outputs": [
    {
     "data": {
      "text/plain": [
       "(8270, 8270)"
      ]
     },
     "execution_count": 43,
     "metadata": {},
     "output_type": "execute_result"
    }
   ],
   "source": [
    "item_similarity_matrix.shape"
   ]
  },
  {
   "cell_type": "code",
   "execution_count": 44,
   "metadata": {
    "collapsed": true
   },
   "outputs": [],
   "source": [
    "# Generate user-subreddit matrix\n",
    "\n",
    "user_item_svd_matrix = SVD.fit_transform(user_item_matrix)"
   ]
  },
  {
   "cell_type": "code",
   "execution_count": 45,
   "metadata": {
    "collapsed": true
   },
   "outputs": [],
   "source": [
    "# Generate user-user similarity matrix\n",
    "\n",
    "user_similarity_matrix = build_similarity_matrix(user_item_svd_matrix)"
   ]
  },
  {
   "cell_type": "code",
   "execution_count": 46,
   "metadata": {},
   "outputs": [
    {
     "data": {
      "text/plain": [
       "array([[ 1.        ,  0.08803904,  0.64299892, ...,  0.30885733,\n",
       "         0.36567277,  0.20576426],\n",
       "       [ 0.08803904,  1.        , -0.18988189, ...,  0.55389324,\n",
       "         0.06789515,  0.15936934],\n",
       "       [ 0.64299892, -0.18988189,  1.        , ..., -0.2657722 ,\n",
       "         0.43085981,  0.22935768],\n",
       "       ..., \n",
       "       [ 0.30885733,  0.55389324, -0.2657722 , ...,  1.        ,\n",
       "        -0.1462205 ,  0.03807452],\n",
       "       [ 0.36567277,  0.06789515,  0.43085981, ..., -0.1462205 ,\n",
       "         1.        ,  0.72548877],\n",
       "       [ 0.20576426,  0.15936934,  0.22935768, ...,  0.03807452,\n",
       "         0.72548877,  1.        ]])"
      ]
     },
     "execution_count": 46,
     "metadata": {},
     "output_type": "execute_result"
    }
   ],
   "source": [
    "user_similarity_matrix"
   ]
  },
  {
   "cell_type": "code",
   "execution_count": 47,
   "metadata": {},
   "outputs": [
    {
     "data": {
      "text/plain": [
       "array([[ 1.        , -0.63644014,  0.81030453, ...,  0.        ,\n",
       "         0.        ,  0.        ],\n",
       "       [-0.63644014,  1.        , -0.45960243, ...,  0.        ,\n",
       "         0.        ,  0.        ],\n",
       "       [ 0.81030453, -0.45960243,  1.        , ...,  0.        ,\n",
       "         0.        ,  0.        ],\n",
       "       ..., \n",
       "       [ 0.        ,  0.        ,  0.        , ...,  0.        ,\n",
       "         0.        ,  0.        ],\n",
       "       [ 0.        ,  0.        ,  0.        , ...,  0.        ,\n",
       "         0.        ,  0.        ],\n",
       "       [ 0.        ,  0.        ,  0.        , ...,  0.        ,\n",
       "         0.        ,  0.        ]])"
      ]
     },
     "execution_count": 47,
     "metadata": {},
     "output_type": "execute_result"
    }
   ],
   "source": [
    "item_similarity_matrix"
   ]
  },
  {
   "cell_type": "code",
   "execution_count": 48,
   "metadata": {},
   "outputs": [
    {
     "name": "stdout",
     "output_type": "stream",
     "text": [
      "(8270, 8270)\n",
      "(1817, 1817)\n"
     ]
    }
   ],
   "source": [
    "print(item_similarity_matrix.shape)\n",
    "print(user_similarity_matrix.shape)"
   ]
  },
  {
   "cell_type": "code",
   "execution_count": 49,
   "metadata": {
    "collapsed": true
   },
   "outputs": [],
   "source": [
    "# Generate subreddit-subreddit similarity dataframe\n",
    "\n",
    "item_similarity_df = pd.DataFrame(item_similarity_matrix, columns=sample.columns.levels[1], index=sample.columns.levels[1])"
   ]
  },
  {
   "cell_type": "code",
   "execution_count": 50,
   "metadata": {},
   "outputs": [
    {
     "data": {
      "text/html": [
       "<div>\n",
       "<style>\n",
       "    .dataframe thead tr:only-child th {\n",
       "        text-align: right;\n",
       "    }\n",
       "\n",
       "    .dataframe thead th {\n",
       "        text-align: left;\n",
       "    }\n",
       "\n",
       "    .dataframe tbody tr th {\n",
       "        vertical-align: top;\n",
       "    }\n",
       "</style>\n",
       "<table border=\"1\" class=\"dataframe\">\n",
       "  <thead>\n",
       "    <tr style=\"text-align: right;\">\n",
       "      <th>subreddit</th>\n",
       "      <th>100DayComicChallenge</th>\n",
       "      <th>100yearsago</th>\n",
       "      <th>10Sound</th>\n",
       "      <th>10cloverfieldlane</th>\n",
       "      <th>1200isplenty</th>\n",
       "      <th>1200isplentyketo</th>\n",
       "      <th>12ozmouse</th>\n",
       "      <th>1911</th>\n",
       "      <th>1P_LSD</th>\n",
       "      <th>1PugLife</th>\n",
       "      <th>...</th>\n",
       "      <th>zerocarb</th>\n",
       "      <th>zeronet</th>\n",
       "      <th>zfs</th>\n",
       "      <th>zombicide</th>\n",
       "      <th>zombies</th>\n",
       "      <th>zoophilia</th>\n",
       "      <th>zootopia</th>\n",
       "      <th>zurich</th>\n",
       "      <th>zyramains</th>\n",
       "      <th>zzt</th>\n",
       "    </tr>\n",
       "    <tr>\n",
       "      <th>subreddit</th>\n",
       "      <th></th>\n",
       "      <th></th>\n",
       "      <th></th>\n",
       "      <th></th>\n",
       "      <th></th>\n",
       "      <th></th>\n",
       "      <th></th>\n",
       "      <th></th>\n",
       "      <th></th>\n",
       "      <th></th>\n",
       "      <th></th>\n",
       "      <th></th>\n",
       "      <th></th>\n",
       "      <th></th>\n",
       "      <th></th>\n",
       "      <th></th>\n",
       "      <th></th>\n",
       "      <th></th>\n",
       "      <th></th>\n",
       "      <th></th>\n",
       "      <th></th>\n",
       "    </tr>\n",
       "  </thead>\n",
       "  <tbody>\n",
       "    <tr>\n",
       "      <th>100DayComicChallenge</th>\n",
       "      <td>1.000000</td>\n",
       "      <td>-0.636440</td>\n",
       "      <td>0.810305</td>\n",
       "      <td>-0.470835</td>\n",
       "      <td>-0.240861</td>\n",
       "      <td>0.627446</td>\n",
       "      <td>-0.144082</td>\n",
       "      <td>0.844877</td>\n",
       "      <td>0.052458</td>\n",
       "      <td>-0.378245</td>\n",
       "      <td>...</td>\n",
       "      <td>0.0</td>\n",
       "      <td>-0.452299</td>\n",
       "      <td>0.0</td>\n",
       "      <td>0.0</td>\n",
       "      <td>0.755612</td>\n",
       "      <td>0.0</td>\n",
       "      <td>0.0</td>\n",
       "      <td>0.0</td>\n",
       "      <td>0.0</td>\n",
       "      <td>0.0</td>\n",
       "    </tr>\n",
       "    <tr>\n",
       "      <th>100yearsago</th>\n",
       "      <td>-0.636440</td>\n",
       "      <td>1.000000</td>\n",
       "      <td>-0.459602</td>\n",
       "      <td>0.299870</td>\n",
       "      <td>0.058864</td>\n",
       "      <td>-0.301684</td>\n",
       "      <td>0.311708</td>\n",
       "      <td>-0.611516</td>\n",
       "      <td>0.132027</td>\n",
       "      <td>0.239729</td>\n",
       "      <td>...</td>\n",
       "      <td>0.0</td>\n",
       "      <td>0.275180</td>\n",
       "      <td>0.0</td>\n",
       "      <td>0.0</td>\n",
       "      <td>-0.125189</td>\n",
       "      <td>0.0</td>\n",
       "      <td>0.0</td>\n",
       "      <td>0.0</td>\n",
       "      <td>0.0</td>\n",
       "      <td>0.0</td>\n",
       "    </tr>\n",
       "    <tr>\n",
       "      <th>10Sound</th>\n",
       "      <td>0.810305</td>\n",
       "      <td>-0.459602</td>\n",
       "      <td>1.000000</td>\n",
       "      <td>-0.584469</td>\n",
       "      <td>0.148925</td>\n",
       "      <td>0.915893</td>\n",
       "      <td>0.193808</td>\n",
       "      <td>0.866984</td>\n",
       "      <td>0.170509</td>\n",
       "      <td>-0.621056</td>\n",
       "      <td>...</td>\n",
       "      <td>0.0</td>\n",
       "      <td>-0.151743</td>\n",
       "      <td>0.0</td>\n",
       "      <td>0.0</td>\n",
       "      <td>0.738709</td>\n",
       "      <td>0.0</td>\n",
       "      <td>0.0</td>\n",
       "      <td>0.0</td>\n",
       "      <td>0.0</td>\n",
       "      <td>0.0</td>\n",
       "    </tr>\n",
       "    <tr>\n",
       "      <th>10cloverfieldlane</th>\n",
       "      <td>-0.470835</td>\n",
       "      <td>0.299870</td>\n",
       "      <td>-0.584469</td>\n",
       "      <td>1.000000</td>\n",
       "      <td>-0.130650</td>\n",
       "      <td>-0.491612</td>\n",
       "      <td>-0.410759</td>\n",
       "      <td>-0.392452</td>\n",
       "      <td>-0.431197</td>\n",
       "      <td>0.427067</td>\n",
       "      <td>...</td>\n",
       "      <td>0.0</td>\n",
       "      <td>0.031016</td>\n",
       "      <td>0.0</td>\n",
       "      <td>0.0</td>\n",
       "      <td>-0.156875</td>\n",
       "      <td>0.0</td>\n",
       "      <td>0.0</td>\n",
       "      <td>0.0</td>\n",
       "      <td>0.0</td>\n",
       "      <td>0.0</td>\n",
       "    </tr>\n",
       "    <tr>\n",
       "      <th>1200isplenty</th>\n",
       "      <td>-0.240861</td>\n",
       "      <td>0.058864</td>\n",
       "      <td>0.148925</td>\n",
       "      <td>-0.130650</td>\n",
       "      <td>1.000000</td>\n",
       "      <td>0.146778</td>\n",
       "      <td>0.099459</td>\n",
       "      <td>0.097438</td>\n",
       "      <td>-0.108552</td>\n",
       "      <td>-0.076029</td>\n",
       "      <td>...</td>\n",
       "      <td>0.0</td>\n",
       "      <td>0.905524</td>\n",
       "      <td>0.0</td>\n",
       "      <td>0.0</td>\n",
       "      <td>-0.020461</td>\n",
       "      <td>0.0</td>\n",
       "      <td>0.0</td>\n",
       "      <td>0.0</td>\n",
       "      <td>0.0</td>\n",
       "      <td>0.0</td>\n",
       "    </tr>\n",
       "  </tbody>\n",
       "</table>\n",
       "<p>5 rows × 8270 columns</p>\n",
       "</div>"
      ],
      "text/plain": [
       "subreddit             100DayComicChallenge  100yearsago   10Sound  \\\n",
       "subreddit                                                           \n",
       "100DayComicChallenge              1.000000    -0.636440  0.810305   \n",
       "100yearsago                      -0.636440     1.000000 -0.459602   \n",
       "10Sound                           0.810305    -0.459602  1.000000   \n",
       "10cloverfieldlane                -0.470835     0.299870 -0.584469   \n",
       "1200isplenty                     -0.240861     0.058864  0.148925   \n",
       "\n",
       "subreddit             10cloverfieldlane  1200isplenty  1200isplentyketo  \\\n",
       "subreddit                                                                 \n",
       "100DayComicChallenge          -0.470835     -0.240861          0.627446   \n",
       "100yearsago                    0.299870      0.058864         -0.301684   \n",
       "10Sound                       -0.584469      0.148925          0.915893   \n",
       "10cloverfieldlane              1.000000     -0.130650         -0.491612   \n",
       "1200isplenty                  -0.130650      1.000000          0.146778   \n",
       "\n",
       "subreddit             12ozmouse      1911    1P_LSD  1PugLife ...   zerocarb  \\\n",
       "subreddit                                                     ...              \n",
       "100DayComicChallenge  -0.144082  0.844877  0.052458 -0.378245 ...        0.0   \n",
       "100yearsago            0.311708 -0.611516  0.132027  0.239729 ...        0.0   \n",
       "10Sound                0.193808  0.866984  0.170509 -0.621056 ...        0.0   \n",
       "10cloverfieldlane     -0.410759 -0.392452 -0.431197  0.427067 ...        0.0   \n",
       "1200isplenty           0.099459  0.097438 -0.108552 -0.076029 ...        0.0   \n",
       "\n",
       "subreddit              zeronet  zfs  zombicide   zombies  zoophilia  zootopia  \\\n",
       "subreddit                                                                       \n",
       "100DayComicChallenge -0.452299  0.0        0.0  0.755612        0.0       0.0   \n",
       "100yearsago           0.275180  0.0        0.0 -0.125189        0.0       0.0   \n",
       "10Sound              -0.151743  0.0        0.0  0.738709        0.0       0.0   \n",
       "10cloverfieldlane     0.031016  0.0        0.0 -0.156875        0.0       0.0   \n",
       "1200isplenty          0.905524  0.0        0.0 -0.020461        0.0       0.0   \n",
       "\n",
       "subreddit             zurich  zyramains  zzt  \n",
       "subreddit                                     \n",
       "100DayComicChallenge     0.0        0.0  0.0  \n",
       "100yearsago              0.0        0.0  0.0  \n",
       "10Sound                  0.0        0.0  0.0  \n",
       "10cloverfieldlane        0.0        0.0  0.0  \n",
       "1200isplenty             0.0        0.0  0.0  \n",
       "\n",
       "[5 rows x 8270 columns]"
      ]
     },
     "execution_count": 50,
     "metadata": {},
     "output_type": "execute_result"
    }
   ],
   "source": [
    "item_similarity_df.head()"
   ]
  },
  {
   "cell_type": "markdown",
   "metadata": {},
   "source": [
    "## Getting recommendations for a particular subreddit "
   ]
  },
  {
   "cell_type": "code",
   "execution_count": 51,
   "metadata": {
    "collapsed": true
   },
   "outputs": [],
   "source": [
    "def recommend(subreddit, data, topK):\n",
    "    row = data.loc[subreddit,:].sort_values(ascending=False).index\n",
    "    return(sorted(row[1:(topK+1)]))"
   ]
  },
  {
   "cell_type": "code",
   "execution_count": 52,
   "metadata": {},
   "outputs": [
    {
     "data": {
      "text/plain": [
       "['1200isplentyketo',\n",
       " '1911',\n",
       " '20xxgame',\n",
       " 'Celiac',\n",
       " 'EmDrive',\n",
       " 'QThruster',\n",
       " 'Turkey',\n",
       " 'istanbul',\n",
       " 'melbourne',\n",
       " 'xmrtrader']"
      ]
     },
     "execution_count": 52,
     "metadata": {},
     "output_type": "execute_result"
    }
   ],
   "source": [
    "# A user who likes '10Sound will like the following subreddits'\n",
    "\n",
    "recommended = recommend('10Sound', item_similarity_df, 10)\n",
    "recommended"
   ]
  },
  {
   "cell_type": "markdown",
   "metadata": {},
   "source": [
    "## Getting recommendations for a particular user based on item-item collaborative filtering"
   ]
  },
  {
   "cell_type": "code",
   "execution_count": 53,
   "metadata": {
    "collapsed": true
   },
   "outputs": [],
   "source": [
    "# Recommend subreddit to a given user\n",
    "\n",
    "def recommend_for_user(data1, data2, user, topN):\n",
    "    row = pd.DataFrame(data1.loc[user,:].sort_values(ascending = False)).T.columns.levels[1][1:(topN+1)].tolist()\n",
    "    new_l = []\n",
    "    for col in row:\n",
    "        recommended_subreddits = recommend(col, data2, topK = topN)\n",
    "        for sub in recommended_subreddits:\n",
    "            new_l.append(sub)\n",
    "    return(new_l)"
   ]
  },
  {
   "cell_type": "code",
   "execution_count": 54,
   "metadata": {},
   "outputs": [
    {
     "data": {
      "text/plain": [
       "['CampHalfBloodRP',\n",
       " 'Star_wars_Rogue_One',\n",
       " 'italy',\n",
       " 'trucksim',\n",
       " '1200isplentyketo',\n",
       " 'EmDrive',\n",
       " 'QThruster',\n",
       " 'melbourne',\n",
       " 'AVexchange',\n",
       " 'LivestreamFail',\n",
       " 'YuYuYu',\n",
       " 'shoujoraisingproject',\n",
       " 'AskMenOver30',\n",
       " 'Breadit',\n",
       " 'composer',\n",
       " 'confession']"
      ]
     },
     "execution_count": 54,
     "metadata": {},
     "output_type": "execute_result"
    }
   ],
   "source": [
    "# Recommend subreddits for the user 'Grunt08'\n",
    "\n",
    "x_recommended = recommend_for_user(sample, item_similarity_df, 'Grunt08', 4)\n",
    "x_recommended\n"
   ]
  },
  {
   "cell_type": "markdown",
   "metadata": {
    "collapsed": true
   },
   "source": [
    "Things left to try-\n",
    "\n",
    "1. Validating the result\n",
    "2. Training on the entire dataset\n",
    "3. Generating counts for each subreddit for every user\n",
    "4. Parameter tuning\n",
    "5. Building a user-user collaborative filtering model"
   ]
  },
  {
   "cell_type": "code",
   "execution_count": null,
   "metadata": {
    "collapsed": true
   },
   "outputs": [],
   "source": []
  }
 ],
 "metadata": {
  "kernelspec": {
   "display_name": "Python 3",
   "language": "python",
   "name": "python3"
  },
  "language_info": {
   "codemirror_mode": {
    "name": "ipython",
    "version": 3
   },
   "file_extension": ".py",
   "mimetype": "text/x-python",
   "name": "python",
   "nbconvert_exporter": "python",
   "pygments_lexer": "ipython3",
   "version": "3.5.0"
  },
  "widgets": {
   "state": {},
   "version": "1.1.2"
  }
 },
 "nbformat": 4,
 "nbformat_minor": 2
}
